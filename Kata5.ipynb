{
 "cells": [
  {
   "cell_type": "markdown",
   "metadata": {},
   "source": [
    "# Kata Número 5"
   ]
  },
  {
   "cell_type": "markdown",
   "metadata": {},
   "source": [
    "### Ejercicio 1"
   ]
  },
  {
   "cell_type": "code",
   "execution_count": 19,
   "metadata": {},
   "outputs": [
    {
     "name": "stdout",
     "output_type": "stream",
     "text": [
      "628949330 Kms\n",
      "390577534 millas\n"
     ]
    }
   ],
   "source": [
    "#Asignamos las variables de las distancias de los planetas\n",
    "\n",
    "distTierra = 149597870\n",
    "distJupiter = 778547200\n",
    "\n",
    "#Calculo de la distancia entre la Tierra y Júpiter\n",
    "\n",
    "distEntrePlanetas = distJupiter - distTierra\n",
    "distPla_a_millas = round(distEntrePlanetas * 0.621)\n",
    "\n",
    "print(distEntrePlanetas, \"Kms\")\n",
    "print(distPla_a_millas, \"millas\")\n",
    "\n",
    "#distEntrePlanetas = distJupiter - distTierra\n"
   ]
  },
  {
   "cell_type": "markdown",
   "metadata": {},
   "source": [
    "### Ejercicio 2"
   ]
  },
  {
   "cell_type": "code",
   "execution_count": 23,
   "metadata": {},
   "outputs": [
    {
     "name": "stdout",
     "output_type": "stream",
     "text": [
      "-30873087\n",
      "30873087\n",
      "390577534\n"
     ]
    }
   ],
   "source": [
    "#Declaramos la variable para recibir la entrada de datos por parte del usuario. La entrada se convierte en entero\n",
    "\n",
    "disPla1 = int(input())\n",
    "disPla2 = int(input())\n",
    "\n",
    "#Realizamos el cálculo de la distancia entre planetas. Lo imprimimos para corroborar\n",
    "distEntrePlanetas = disPla2 -disPla1\n",
    "print(distEntrePlanetas)\n",
    "\n",
    "#Convertimos el valor de la distancia entre planetas en valor absoluto y lo imprimimos para corroborar\n",
    "print(abs(distEntrePlanetas))\n",
    "\n",
    "#Realizamos la conversion de kms a millas. Anteriormente ya se habia declarado la variable\n",
    "distPla_a_millas\n",
    "\n",
    "#Imprimimos el resultado\n",
    "print(distPla_a_millas)"
   ]
  }
 ],
 "metadata": {
  "interpreter": {
   "hash": "b9042f73efc625a7221879088d5f8b3648a95da0392f04fdb4476149b05e9c7d"
  },
  "kernelspec": {
   "display_name": "Python 3.10.2 64-bit",
   "language": "python",
   "name": "python3"
  },
  "language_info": {
   "codemirror_mode": {
    "name": "ipython",
    "version": 3
   },
   "file_extension": ".py",
   "mimetype": "text/x-python",
   "name": "python",
   "nbconvert_exporter": "python",
   "pygments_lexer": "ipython3",
   "version": "3.10.2"
  },
  "orig_nbformat": 4
 },
 "nbformat": 4,
 "nbformat_minor": 2
}
