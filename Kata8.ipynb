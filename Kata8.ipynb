{
 "cells": [
  {
   "cell_type": "markdown",
   "metadata": {},
   "source": [
    "# Kata 8"
   ]
  },
  {
   "cell_type": "markdown",
   "metadata": {},
   "source": [
    "### Ejercicio 1"
   ]
  },
  {
   "cell_type": "code",
   "execution_count": 2,
   "metadata": {},
   "outputs": [],
   "source": [
    "#Se crea el diccionario planeta\n",
    "\n",
    "planeta = {\n",
    "    'nombre' : 'Marte',\n",
    "    'lunas' : 2\n",
    "}"
   ]
  },
  {
   "cell_type": "code",
   "execution_count": 3,
   "metadata": {},
   "outputs": [
    {
     "name": "stdout",
     "output_type": "stream",
     "text": [
      "Marte tiene 2 Lunas:\n"
     ]
    }
   ],
   "source": [
    "#Se imprimen los datos del diccionario\n",
    "\n",
    "print(\"{0} tiene {1} Lunas:\".format(planeta.get('nombre'), planeta.get('lunas')))"
   ]
  },
  {
   "cell_type": "code",
   "execution_count": 7,
   "metadata": {},
   "outputs": [
    {
     "name": "stdout",
     "output_type": "stream",
     "text": [
      "dict_keys(['nombre', 'lunas', 'polar', 'equatoria'])\n",
      "{'nombre': 'Marte', 'lunas': 2, 'polar': 6752, 'equatoria': 6792}\n"
     ]
    }
   ],
   "source": [
    "#Se actualizan dos valores mas al diccionario\n",
    "\n",
    "planeta['polar'] = 6752\n",
    "planeta['equatoria'] = 6792\n",
    "\n",
    "print(planeta.keys())\n",
    "print(planeta)"
   ]
  },
  {
   "cell_type": "code",
   "execution_count": 9,
   "metadata": {},
   "outputs": [
    {
     "name": "stdout",
     "output_type": "stream",
     "text": [
      "La circunferencia polar de Marte es 6752 kms.\n"
     ]
    }
   ],
   "source": [
    "#Se imprime el nombre del planeta con su sircunferencia polar\n",
    "\n",
    "print(\"La circunferencia polar de {0} es {1} kms.\".format(planeta.get('nombre'), planeta.get('polar')))"
   ]
  },
  {
   "cell_type": "markdown",
   "metadata": {},
   "source": [
    "### Ejercicio 2"
   ]
  },
  {
   "cell_type": "code",
   "execution_count": 10,
   "metadata": {},
   "outputs": [
    {
     "name": "stdout",
     "output_type": "stream",
     "text": [
      "{'mercury': 0, 'venus': 0, 'earth': 1, 'mars': 2, 'jupiter': 79, 'saturn': 82, 'uranus': 27, 'neptune': 14, 'pluto': 5, 'haumea': 2, 'makemake': 1, 'eris': 1}\n"
     ]
    }
   ],
   "source": [
    "planet_moons = {\n",
    "    'mercury': 0,\n",
    "    'venus': 0,\n",
    "    'earth': 1,\n",
    "    'mars': 2,\n",
    "    'jupiter': 79,\n",
    "    'saturn': 82,\n",
    "    'uranus': 27,\n",
    "    'neptune': 14,\n",
    "    'pluto': 5,\n",
    "    'haumea': 2,\n",
    "    'makemake': 1,\n",
    "    'eris': 1\n",
    "}\n",
    "\n",
    "print(planet_moons)"
   ]
  },
  {
   "cell_type": "code",
   "execution_count": 12,
   "metadata": {},
   "outputs": [
    {
     "name": "stdout",
     "output_type": "stream",
     "text": [
      "12\n"
     ]
    }
   ],
   "source": [
    "#Conteo de número de Lunas - declaracion de variables\n",
    "\n",
    "total_lunas = 0\n",
    "num_planetas = len(planet_moons)\n",
    "\n",
    "print(num_planetas)"
   ]
  },
  {
   "cell_type": "code",
   "execution_count": 38,
   "metadata": {},
   "outputs": [
    {
     "name": "stdout",
     "output_type": "stream",
     "text": [
      "hay un total de 214 Lunas en el Sistema Solar\n"
     ]
    }
   ],
   "source": [
    "#Conteo de número de Lunas a partir del ciclo for\n",
    "\n",
    "\n",
    "for elements in planet_moons.values():\n",
    "    total_lunas = total_lunas + elements\n",
    "\n",
    "print(\"hay un total de {} Lunas en el Sistema Solar\".format(total_lunas))\n",
    "\n"
   ]
  },
  {
   "cell_type": "code",
   "execution_count": 43,
   "metadata": {},
   "outputs": [
    {
     "name": "stdout",
     "output_type": "stream",
     "text": [
      "En promedio hay 17.833333333333332 Lunas por planeta en el Sistema Sola\n"
     ]
    }
   ],
   "source": [
    "#Calculamos el promedio de Lunas por planeta en el Sistema Solar\n",
    "\n",
    "promedio_lunas = total_lunas /num_planetas\n",
    "\n",
    "print(\"En promedio hay {} Lunas por planeta en el Sistema Sola\".format(promedio_lunas))"
   ]
  }
 ],
 "metadata": {
  "interpreter": {
   "hash": "b9042f73efc625a7221879088d5f8b3648a95da0392f04fdb4476149b05e9c7d"
  },
  "kernelspec": {
   "display_name": "Python 3.10.2 64-bit",
   "language": "python",
   "name": "python3"
  },
  "language_info": {
   "codemirror_mode": {
    "name": "ipython",
    "version": 3
   },
   "file_extension": ".py",
   "mimetype": "text/x-python",
   "name": "python",
   "nbconvert_exporter": "python",
   "pygments_lexer": "ipython3",
   "version": "3.10.2"
  },
  "orig_nbformat": 4
 },
 "nbformat": 4,
 "nbformat_minor": 2
}
