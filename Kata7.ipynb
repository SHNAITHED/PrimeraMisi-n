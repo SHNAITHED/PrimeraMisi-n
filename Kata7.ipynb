{
 "cells": [
  {
   "cell_type": "markdown",
   "metadata": {},
   "source": [
    "# Kata 7"
   ]
  },
  {
   "cell_type": "markdown",
   "metadata": {},
   "source": [
    "### Ejercicio 1"
   ]
  },
  {
   "cell_type": "code",
   "execution_count": 2,
   "metadata": {},
   "outputs": [
    {
     "name": "stdout",
     "output_type": "stream",
     "text": [
      "Escriba los nombres de los planetas del Sistema Solar.\n",
      "Cuando haya terminado, escriba la palabra \"done\" para concluir el programa.\n",
      "Mercurio\n",
      "Venus\n",
      "Tierra\n",
      "Marte\n",
      "Jupiter\n",
      "Saturno\n",
      "Urano\n",
      "Neptuno\n",
      "['Mercurio', 'Venus', 'Tierra', 'Marte', 'Jupiter', 'Saturno', 'Urano', 'Neptuno']\n"
     ]
    }
   ],
   "source": [
    "#Se declaran las variables input_planeta y planetas\n",
    "\n",
    "input_planeta = ''\n",
    "planetas = []\n",
    "\n",
    "print(\"\"\"Escriba los nombres de los planetas del Sistema Solar.\n",
    "Cuando haya terminado, escriba la palabra \"done\" para concluir el programa.\"\"\")\n",
    "\n",
    "while input_planeta.lower() != 'done':\n",
    "    input_planeta = input()\n",
    "    if input_planeta.lower() != 'done':\n",
    "        print(input_planeta)\n",
    "        planetas.append(input_planeta)\n",
    "    else:\n",
    "        break    \n",
    "    \n",
    "\n",
    "print(planetas)\n"
   ]
  },
  {
   "cell_type": "markdown",
   "metadata": {},
   "source": [
    "### Ejercicio 2"
   ]
  },
  {
   "cell_type": "code",
   "execution_count": 26,
   "metadata": {},
   "outputs": [
    {
     "name": "stdout",
     "output_type": "stream",
     "text": [
      "Mercurio es el 1° planeta del sistema solar.\n",
      "Venus es el 2° planeta del sistema solar.\n",
      "Tierra es el 3° planeta del sistema solar.\n",
      "Marte es el 4° planeta del sistema solar.\n",
      "Jupiter es el 5° planeta del sistema solar.\n",
      "Saturno es el 6° planeta del sistema solar.\n",
      "Urano es el 7° planeta del sistema solar.\n",
      "Neptuno es el 8° planeta del sistema solar.\n",
      "\n",
      "Hay 8 planetas en el sistema solar.\n"
     ]
    }
   ],
   "source": [
    "#Iterar elementos de la lista planetas\n",
    "\n",
    "orden = 0\n",
    "\n",
    "for elemento in planetas:\n",
    "    orden = orden + 1\n",
    "    print(\"{0} es el {1}° planeta del sistema solar.\".format(elemento, orden))\n",
    "\n",
    "print(\"\\nHay {0} planetas en el sistema solar.\".format(len(planetas)))"
   ]
  }
 ],
 "metadata": {
  "interpreter": {
   "hash": "b9042f73efc625a7221879088d5f8b3648a95da0392f04fdb4476149b05e9c7d"
  },
  "kernelspec": {
   "display_name": "Python 3.10.2 64-bit",
   "language": "python",
   "name": "python3"
  },
  "language_info": {
   "codemirror_mode": {
    "name": "ipython",
    "version": 3
   },
   "file_extension": ".py",
   "mimetype": "text/x-python",
   "name": "python",
   "nbconvert_exporter": "python",
   "pygments_lexer": "ipython3",
   "version": "3.10.2"
  },
  "orig_nbformat": 4
 },
 "nbformat": 4,
 "nbformat_minor": 2
}
