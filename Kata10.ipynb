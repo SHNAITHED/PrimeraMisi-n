{
 "cells": [
  {
   "cell_type": "markdown",
   "metadata": {},
   "source": [
    "# Kata 10"
   ]
  },
  {
   "cell_type": "markdown",
   "metadata": {},
   "source": [
    "### Tracebacks"
   ]
  },
  {
   "cell_type": "code",
   "execution_count": 1,
   "metadata": {},
   "outputs": [
    {
     "ename": "FileNotFoundError",
     "evalue": "[Errno 2] No such file or directory: '/archivo/de/error.jpg'",
     "output_type": "error",
     "traceback": [
      "\u001b[1;31m---------------------------------------------------------------------------\u001b[0m",
      "\u001b[1;31mFileNotFoundError\u001b[0m                         Traceback (most recent call last)",
      "\u001b[1;32mUntitled-1.ipynb Cell 3'\u001b[0m in \u001b[0;36m<module>\u001b[1;34m\u001b[0m\n\u001b[0;32m      <a href='vscode-notebook-cell:Untitled-1.ipynb?jupyter-notebook#ch0000000untitled?line=0'>1</a>\u001b[0m \u001b[39m# Se intenta generar un error al drede para ver el funcionamiento de los Tracebacks\u001b[39;00m\n\u001b[0;32m      <a href='vscode-notebook-cell:Untitled-1.ipynb?jupyter-notebook#ch0000000untitled?line=1'>2</a>\u001b[0m \u001b[39m# Abrimos un archivo inexistente\u001b[39;00m\n\u001b[1;32m----> <a href='vscode-notebook-cell:Untitled-1.ipynb?jupyter-notebook#ch0000000untitled?line=3'>4</a>\u001b[0m \u001b[39mopen\u001b[39;49m(\u001b[39m\"\u001b[39;49m\u001b[39m/archivo/de/error.jpg\u001b[39;49m\u001b[39m\"\u001b[39;49m)\n",
      "\u001b[1;31mFileNotFoundError\u001b[0m: [Errno 2] No such file or directory: '/archivo/de/error.jpg'"
     ]
    }
   ],
   "source": [
    "# Se intenta generar un error al drede para ver el funcionamiento de los Tracebacks\n",
    "# Abrimos un archivo inexistente\n",
    "\n",
    "open(\"/archivo/de/error.jpg\")\n"
   ]
  },
  {
   "cell_type": "markdown",
   "metadata": {},
   "source": [
    "Creamos un archivo .py de python en la ruta \"\\Proyecto prueba\\src\\open.py\" con el iguente código:\n",
    "\n",
    "def main():\n",
    "    open(\"/ruta/de/error,jpj\")\n",
    "\n",
    "if __name__ == '__main__':\n",
    "    main()\n",
    "\n",
    "\n",
    "Al ejecutarlo se muestra el siguiente error\n",
    "\n",
    "$ python3 open.py\n",
    "Traceback (most recent call last):\n",
    "  File \"c:\\Users\\marco\\source\\repos python\\Proyecto prueba\\src\\open.py\", line 5, in <module>\n",
    "    main()\n",
    "  File \"c:\\Users\\marco\\source\\repos python\\Proyecto prueba\\src\\open.py\", line 2, in main    \n",
    "    open(\"/ruta/de/error.jpj\")\n",
    "FileNotFoundError: [Errno 2] No such file or directory: '/ruta/de/error.jpj'\n",
    "PS C:\\Users\\marco\\source\\repos python\\Proyecto prueba\\src> \n",
    "\n"
   ]
  },
  {
   "cell_type": "markdown",
   "metadata": {},
   "source": [
    "### Try y Except de los bloques"
   ]
  },
  {
   "cell_type": "code",
   "execution_count": 2,
   "metadata": {},
   "outputs": [
    {
     "name": "stdout",
     "output_type": "stream",
     "text": [
      "No se pudo encontrar el archivo config.txt\n"
     ]
    }
   ],
   "source": [
    "#Usamos el bloque try except para controlar el error \"FileNotFoundError\"\n",
    "\n",
    "try:\n",
    "    open('config.txt')\n",
    "except FileNotFoundError:\n",
    "    print(\"No se pudo encontrar el archivo config.txt\")"
   ]
  },
  {
   "cell_type": "markdown",
   "metadata": {},
   "source": [
    "Creamos el archivo \"\\Proyecto prueba\\src\\config.py\" con el iguente código:\n",
    "\n",
    "\n",
    "def main():\n",
    "    try:\n",
    "        configuracion = open('config.txt')\n",
    "    except FileNotFoundError:\n",
    "        print(\"No se pudo encontrar el archivo 'config.txt\")\n",
    "\n",
    "if __name__ == '__main__':\n",
    "    main()\n",
    "\n",
    "------------------------------------------------------------------\n",
    "Se ejecuta a traves de la terminal, lo cual nos da el siguiente error:\n",
    "\n",
    "\n",
    "Traceback (most recent call last):\n",
    "  File \"C:\\Users\\marco\\source\\repos python\\Proyecto prueba\\src\\config.py\", line 9, in <module>\n",
    "    main()\n",
    "  File \"C:\\Users\\marco\\source\\repos python\\Proyecto prueba\\src\\config.py\", line 3, in main\n",
    "    configuracion = open('config.txt')\n",
    "PermissionError: [Errno 13] Permission denied: 'config.txt'\n",
    "\n",
    "-------------------------------------------------------------------\n",
    "Se actualiza la función main() del archivo config.py para detectar todas las excepciones posibles:\n",
    "\n",
    "\n",
    "def main():\n",
    "    try:\n",
    "        configuracion = open('config.txt')\n",
    "    except:\n",
    "        print(\"No se pudo encontrar el archivo 'config.txt\")\n",
    "\n",
    "-------------------------------------------------------------------\n",
    "Volvemos a ejecutar el código pero ahora con la actualización:\n",
    "\n",
    "\n",
    "PS C:\\Users\\marco\\source\\repos python\\Proyecto prueba\\src> python .\\config.py\n",
    "No se pudo encontrar el archivo 'config.txt'\n",
    "\n",
    "-------------------------------------------------------------------\n",
    "Modificamos de nuevo el código para agregar mas excepciones y verificar de manera mas certera el error:\n",
    "\n",
    "def main():\n",
    "    try:\n",
    "        configuracion = open('config.txt')\n",
    "    except FileNotFoundError:\n",
    "        print(\"No se pudo encontrar el archivo 'config.txt'\")\n",
    "    except IsADirectoryError:\n",
    "        print(\"No se puede abrir el archivo 'config.txt' debido a que es un directorio\")\n",
    "    except PermissionError:\n",
    "        print(\"No se tienen los permisos necesarios para abrir el archivo\")\n",
    "\n",
    "--------------------------------------------------------------------\n",
    "Volvemos a ejecutar el código para ver que error nos arroja y encontrar la excepción:\n",
    "\n",
    "\n",
    "PS C:\\Users\\marco\\source\\repos python\\Proyecto prueba\\src> python .\\config.py\n",
    "No se tienen los permisos necesarios para abrir el archivo\n",
    "\n",
    "--------------------------------------------------------------------\n",
    "Eliminamos el archivo config.txt para asegurarnos de que se alcanza el primer bloque except de la función:\n",
    "\n",
    "\n",
    "PS C:\\Users\\marco\\source\\repos python\\Proyecto prueba\\src> rm .\\config.txt\\\n",
    "PS C:\\Users\\marco\\source\\repos python\\Proyecto prueba\\src> python .\\config.py\n",
    "No se pudo encontrar el archivo 'config.txt'\n",
    "\n",
    "---------------------------------------------------------------------\n",
    "Para manejar varios errores por excepción se pueden agrupar varias excepciones entre parectesis:\n",
    "\n",
    "def main():\n",
    "    try:\n",
    "        configuracion = open('config.txt')\n",
    "    except (FileNotFoundError, FileExistsError):\n",
    "        print(\"No se pudo encontrar el archivo 'config.txt'\")\n",
    "\n",
    "----------------------------------------------------------------------\n",
    "Para acceder a un error asociado a la excepción, se debe incluir la palabra clave \"as\" en la línea except\n",
    "\n",
    "\n",
    " try:\n",
    "        configuracion = open(\"config.txt\")\n",
    "    except FileNotFoundError as err:\n",
    "        print(\"problema al tratar de leer el archivo\", err)\n",
    "\n",
    "\n",
    "PS C:\\Users\\marco\\source\\repos python\\Proyecto prueba\\src> python .\\config.py\n",
    "problema al tratar de leer el archivo [Errno 2] No such file or directory: 'config.txt'\n",
    "\n",
    "-----------------------------------------------------------------------\n",
    "Utilizamos atributos de la excepción OSError (excepción primaria de FilenotFoundError, PermissionError)\n",
    "\n",
    "\n",
    "\n"
   ]
  },
  {
   "cell_type": "markdown",
   "metadata": {},
   "source": [
    "### Generación de excepciones"
   ]
  },
  {
   "cell_type": "code",
   "execution_count": 2,
   "metadata": {},
   "outputs": [
    {
     "data": {
      "text/plain": [
       "'El agua total restante para 2 días es de -10 litros de agua'"
      ]
     },
     "execution_count": 2,
     "metadata": {},
     "output_type": "execute_result"
    }
   ],
   "source": [
    "#Se genera una función que pueda calcular la cantidad de agua  disponible en función del número de astronautas\n",
    "\n",
    "\"\"\"def agua_resta(astronautas, aguaRestante, diasRestantes):\n",
    "    uso_diario = astronautas * 11\n",
    "    uso_total = uso_diario * diasRestantes\n",
    "    total_aguaRest = aguaRestante - uso_total\n",
    "    return f\"El agua total restante para {diasRestantes} días es de {total_aguaRest} litros de agua\"\n",
    "\"\"\"\n",
    "#agua_resta(5, 100, 2)"
   ]
  },
  {
   "cell_type": "code",
   "execution_count": 3,
   "metadata": {},
   "outputs": [
    {
     "ename": "RuntimeError",
     "evalue": "No hay suficiente agua para 5 astronautas después de 2 días",
     "output_type": "error",
     "traceback": [
      "\u001b[1;31m---------------------------------------------------------------------------\u001b[0m",
      "\u001b[1;31mRuntimeError\u001b[0m                              Traceback (most recent call last)",
      "\u001b[1;32mc:\\Users\\marco\\source\\repos python\\Kata10.ipynb Cell 10'\u001b[0m in \u001b[0;36m<module>\u001b[1;34m\u001b[0m\n\u001b[0;32m      <a href='vscode-notebook-cell:/c%3A/Users/marco/source/repos%20python/Kata10.ipynb#ch0000010?line=7'>8</a>\u001b[0m         \u001b[39mraise\u001b[39;00m \u001b[39mRuntimeError\u001b[39;00m(\u001b[39m\"\u001b[39m\u001b[39mNo hay suficiente agua para \u001b[39m\u001b[39m{0}\u001b[39;00m\u001b[39m astronautas después de \u001b[39m\u001b[39m{1}\u001b[39;00m\u001b[39m días\u001b[39m\u001b[39m\"\u001b[39m\u001b[39m.\u001b[39mformat(astronautas, diasRestantes))\n\u001b[0;32m      <a href='vscode-notebook-cell:/c%3A/Users/marco/source/repos%20python/Kata10.ipynb#ch0000010?line=8'>9</a>\u001b[0m     \u001b[39mreturn\u001b[39;00m \u001b[39m\"\u001b[39m\u001b[39mEl agua total restante para \u001b[39m\u001b[39m{0}\u001b[39;00m\u001b[39m días es de \u001b[39m\u001b[39m{1}\u001b[39;00m\u001b[39m litros de agua\u001b[39m\u001b[39m\"\u001b[39m\u001b[39m.\u001b[39mformat(diasRestantes, total_aguaRest)\n\u001b[1;32m---> <a href='vscode-notebook-cell:/c%3A/Users/marco/source/repos%20python/Kata10.ipynb#ch0000010?line=10'>11</a>\u001b[0m agua_resta(\u001b[39m5\u001b[39;49m, \u001b[39m100\u001b[39;49m, \u001b[39m2\u001b[39;49m)\n",
      "\u001b[1;32mc:\\Users\\marco\\source\\repos python\\Kata10.ipynb Cell 10'\u001b[0m in \u001b[0;36magua_resta\u001b[1;34m(astronautas, aguaRestante, diasRestantes)\u001b[0m\n\u001b[0;32m      <a href='vscode-notebook-cell:/c%3A/Users/marco/source/repos%20python/Kata10.ipynb#ch0000010?line=5'>6</a>\u001b[0m total_aguaRest \u001b[39m=\u001b[39m aguaRestante \u001b[39m-\u001b[39m uso_total\n\u001b[0;32m      <a href='vscode-notebook-cell:/c%3A/Users/marco/source/repos%20python/Kata10.ipynb#ch0000010?line=6'>7</a>\u001b[0m \u001b[39mif\u001b[39;00m total_aguaRest \u001b[39m<\u001b[39m \u001b[39m0\u001b[39m:\n\u001b[1;32m----> <a href='vscode-notebook-cell:/c%3A/Users/marco/source/repos%20python/Kata10.ipynb#ch0000010?line=7'>8</a>\u001b[0m     \u001b[39mraise\u001b[39;00m \u001b[39mRuntimeError\u001b[39;00m(\u001b[39m\"\u001b[39m\u001b[39mNo hay suficiente agua para \u001b[39m\u001b[39m{0}\u001b[39;00m\u001b[39m astronautas después de \u001b[39m\u001b[39m{1}\u001b[39;00m\u001b[39m días\u001b[39m\u001b[39m\"\u001b[39m\u001b[39m.\u001b[39mformat(astronautas, diasRestantes))\n\u001b[0;32m      <a href='vscode-notebook-cell:/c%3A/Users/marco/source/repos%20python/Kata10.ipynb#ch0000010?line=8'>9</a>\u001b[0m \u001b[39mreturn\u001b[39;00m \u001b[39m\"\u001b[39m\u001b[39mEl agua total restante para \u001b[39m\u001b[39m{0}\u001b[39;00m\u001b[39m días es de \u001b[39m\u001b[39m{1}\u001b[39;00m\u001b[39m litros de agua\u001b[39m\u001b[39m\"\u001b[39m\u001b[39m.\u001b[39mformat(diasRestantes, total_aguaRest)\n",
      "\u001b[1;31mRuntimeError\u001b[0m: No hay suficiente agua para 5 astronautas después de 2 días"
     ]
    }
   ],
   "source": [
    "#Generamos una excepción en la función para resolver el problema del agua restante\n",
    "\n",
    "def agua_resta(astronautas, aguaRestante, diasRestantes):\n",
    "    uso_diario = astronautas * 11\n",
    "    uso_total = uso_diario * diasRestantes\n",
    "    total_aguaRest = aguaRestante - uso_total\n",
    "    if total_aguaRest < 0:\n",
    "        raise RuntimeError(\"No hay suficiente agua para {0} astronautas después de {1} días\".format(astronautas, diasRestantes))\n",
    "    return \"El agua total restante para {0} días es de {1} litros de agua\".format(diasRestantes, total_aguaRest)\n",
    "\n",
    "agua_resta(5, 100, 2)"
   ]
  },
  {
   "cell_type": "code",
   "execution_count": 4,
   "metadata": {},
   "outputs": [
    {
     "ename": "TypeError",
     "evalue": "Todos los argumentos deben ser de tipo entero: 3",
     "output_type": "error",
     "traceback": [
      "\u001b[1;31m---------------------------------------------------------------------------\u001b[0m",
      "\u001b[1;31mTypeError\u001b[0m                                 Traceback (most recent call last)",
      "\u001b[1;32mc:\\Users\\marco\\source\\repos python\\Kata10.ipynb Cell 11'\u001b[0m in \u001b[0;36magua_resta\u001b[1;34m(astronautas, aguaRestante, diasRestantes)\u001b[0m\n\u001b[0;32m      <a href='vscode-notebook-cell:/c%3A/Users/marco/source/repos%20python/Kata10.ipynb#ch0000011?line=4'>5</a>\u001b[0m \u001b[39mtry\u001b[39;00m:\n\u001b[1;32m----> <a href='vscode-notebook-cell:/c%3A/Users/marco/source/repos%20python/Kata10.ipynb#ch0000011?line=5'>6</a>\u001b[0m     argumentos \u001b[39m/\u001b[39;49m \u001b[39m10\u001b[39;49m \u001b[39m#Si un argumento no es un entero, entonces la siguiente operación funciona\u001b[39;00m\n\u001b[0;32m      <a href='vscode-notebook-cell:/c%3A/Users/marco/source/repos%20python/Kata10.ipynb#ch0000011?line=6'>7</a>\u001b[0m \u001b[39mexcept\u001b[39;00m \u001b[39mTypeError\u001b[39;00m:\n",
      "\u001b[1;31mTypeError\u001b[0m: unsupported operand type(s) for /: 'str' and 'int'",
      "\nDuring handling of the above exception, another exception occurred:\n",
      "\u001b[1;31mTypeError\u001b[0m                                 Traceback (most recent call last)",
      "\u001b[1;32mc:\\Users\\marco\\source\\repos python\\Kata10.ipynb Cell 11'\u001b[0m in \u001b[0;36m<module>\u001b[1;34m\u001b[0m\n\u001b[0;32m     <a href='vscode-notebook-cell:/c%3A/Users/marco/source/repos%20python/Kata10.ipynb#ch0000011?line=12'>13</a>\u001b[0m         \u001b[39mraise\u001b[39;00m \u001b[39mRuntimeError\u001b[39;00m(\u001b[39m\"\u001b[39m\u001b[39mNo hay suficiente agua para \u001b[39m\u001b[39m{0}\u001b[39;00m\u001b[39m astronautas después de \u001b[39m\u001b[39m{1}\u001b[39;00m\u001b[39m días\u001b[39m\u001b[39m\"\u001b[39m\u001b[39m.\u001b[39mformat(astronautas, diasRestantes))\n\u001b[0;32m     <a href='vscode-notebook-cell:/c%3A/Users/marco/source/repos%20python/Kata10.ipynb#ch0000011?line=13'>14</a>\u001b[0m     \u001b[39mreturn\u001b[39;00m \u001b[39m\"\u001b[39m\u001b[39mEl agua total restante para \u001b[39m\u001b[39m{0}\u001b[39;00m\u001b[39m días es de \u001b[39m\u001b[39m{1}\u001b[39;00m\u001b[39m litros de agua\u001b[39m\u001b[39m\"\u001b[39m\u001b[39m.\u001b[39mformat(diasRestantes, total_aguaRest)\n\u001b[1;32m---> <a href='vscode-notebook-cell:/c%3A/Users/marco/source/repos%20python/Kata10.ipynb#ch0000011?line=15'>16</a>\u001b[0m agua_resta(\u001b[39m\"\u001b[39;49m\u001b[39m3\u001b[39;49m\u001b[39m\"\u001b[39;49m, \u001b[39m\"\u001b[39;49m\u001b[39m200\u001b[39;49m\u001b[39m\"\u001b[39;49m, \u001b[39mNone\u001b[39;49;00m)\n",
      "\u001b[1;32mc:\\Users\\marco\\source\\repos python\\Kata10.ipynb Cell 11'\u001b[0m in \u001b[0;36magua_resta\u001b[1;34m(astronautas, aguaRestante, diasRestantes)\u001b[0m\n\u001b[0;32m      <a href='vscode-notebook-cell:/c%3A/Users/marco/source/repos%20python/Kata10.ipynb#ch0000011?line=5'>6</a>\u001b[0m         argumentos \u001b[39m/\u001b[39m \u001b[39m10\u001b[39m \u001b[39m#Si un argumento no es un entero, entonces la siguiente operación funciona\u001b[39;00m\n\u001b[0;32m      <a href='vscode-notebook-cell:/c%3A/Users/marco/source/repos%20python/Kata10.ipynb#ch0000011?line=6'>7</a>\u001b[0m     \u001b[39mexcept\u001b[39;00m \u001b[39mTypeError\u001b[39;00m:\n\u001b[1;32m----> <a href='vscode-notebook-cell:/c%3A/Users/marco/source/repos%20python/Kata10.ipynb#ch0000011?line=7'>8</a>\u001b[0m         \u001b[39mraise\u001b[39;00m \u001b[39mTypeError\u001b[39;00m(\u001b[39m\"\u001b[39m\u001b[39mTodos los argumentos deben ser de tipo entero: \u001b[39m\u001b[39m{0}\u001b[39;00m\u001b[39m\"\u001b[39m\u001b[39m.\u001b[39mformat(argumentos))\n\u001b[0;32m      <a href='vscode-notebook-cell:/c%3A/Users/marco/source/repos%20python/Kata10.ipynb#ch0000011?line=8'>9</a>\u001b[0m uso_diario \u001b[39m=\u001b[39m astronautas \u001b[39m*\u001b[39m \u001b[39m11\u001b[39m\n\u001b[0;32m     <a href='vscode-notebook-cell:/c%3A/Users/marco/source/repos%20python/Kata10.ipynb#ch0000011?line=9'>10</a>\u001b[0m uso_total \u001b[39m=\u001b[39m uso_diario \u001b[39m*\u001b[39m diasRestantes\n",
      "\u001b[1;31mTypeError\u001b[0m: Todos los argumentos deben ser de tipo entero: 3"
     ]
    }
   ],
   "source": [
    "#Ahora usamos RuntimeError para generar la alerta:\n",
    "\n",
    "def agua_resta(astronautas, aguaRestante, diasRestantes):\n",
    "    for argumentos in [astronautas, aguaRestante, diasRestantes]:\n",
    "        try:\n",
    "            argumentos / 10 #Si un argumento no es un entero, entonces la siguiente operación funciona\n",
    "        except TypeError:\n",
    "            raise TypeError(\"Todos los argumentos deben ser de tipo entero: {0}\".format(argumentos))\n",
    "    uso_diario = astronautas * 11\n",
    "    uso_total = uso_diario * diasRestantes\n",
    "    total_aguaRest = aguaRestante - uso_total\n",
    "    if total_aguaRest < 0:\n",
    "        raise RuntimeError(\"No hay suficiente agua para {0} astronautas después de {1} días\".format(astronautas, diasRestantes))\n",
    "    return \"El agua total restante para {0} días es de {1} litros de agua\".format(diasRestantes, total_aguaRest)\n",
    "\n",
    "agua_resta(\"3\", \"200\", None)"
   ]
  }
 ],
 "metadata": {
  "interpreter": {
   "hash": "b9042f73efc625a7221879088d5f8b3648a95da0392f04fdb4476149b05e9c7d"
  },
  "kernelspec": {
   "display_name": "Python 3.10.2 64-bit",
   "language": "python",
   "name": "python3"
  },
  "language_info": {
   "codemirror_mode": {
    "name": "ipython",
    "version": 3
   },
   "file_extension": ".py",
   "mimetype": "text/x-python",
   "name": "python",
   "nbconvert_exporter": "python",
   "pygments_lexer": "ipython3",
   "version": "3.10.2"
  },
  "orig_nbformat": 4
 },
 "nbformat": 4,
 "nbformat_minor": 2
}
