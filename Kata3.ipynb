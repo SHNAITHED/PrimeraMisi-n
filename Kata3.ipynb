{
 "cells": [
  {
   "cell_type": "markdown",
   "metadata": {},
   "source": [
    "# Kata Número 3"
   ]
  },
  {
   "cell_type": "code",
   "execution_count": null,
   "metadata": {},
   "outputs": [],
   "source": [
    "# Ejercicio número 1\n",
    "vel_ast = 16\n",
    "\n",
    "if vel_ast > 25:\n",
    "    print(\"ADVERTENCIA: Asteroide a mas de 25 km/s\")\n",
    "else:\n",
    "    print(\"Fuera de peligro\")"
   ]
  },
  {
   "cell_type": "code",
   "execution_count": 1,
   "metadata": {},
   "outputs": [
    {
     "name": "stdout",
     "output_type": "stream",
     "text": [
      "Creo que viene un asteroide, pero viene despacio, No hay de que preocuparse\n"
     ]
    }
   ],
   "source": [
    "# Ejercicio número 2 - Versión 1\n",
    "vel_ast = 19\n",
    "\n",
    "if vel_ast > 20:\n",
    "    print(\"Mira hacia arriba!! Un Asteroide se aproxima!!\")\n",
    "elif vel_ast == 20:\n",
    "    print(\"Pon atención, parece que se aproxima un asteroide\")\n",
    "else:\n",
    "    print(\"Creo que viene un asteroide, pero viene despacio, No hay de que preocuparse\")"
   ]
  },
  {
   "cell_type": "code",
   "execution_count": 5,
   "metadata": {},
   "outputs": [
    {
     "name": "stdout",
     "output_type": "stream",
     "text": [
      "Creo que viene un asteroide, pero no hay de que preocuparse\n"
     ]
    }
   ],
   "source": [
    "#Ejercicio número 2 - Versión 2\n",
    "\n",
    "vel_ast = 19\n",
    "\n",
    "if vel_ast >= 20:\n",
    "    print(\"Mira hacia arriba!!, Un asteroide se aproxima\")\n",
    "else:\n",
    "    print(\"Creo que viene un asteroide, pero no hay de que preocuparse\")"
   ]
  },
  {
   "cell_type": "code",
   "execution_count": 10,
   "metadata": {},
   "outputs": [
    {
     "name": "stdout",
     "output_type": "stream",
     "text": [
      "Mira hacia arriba!!, Un asteroide se aproxima, CORRAN!!\n"
     ]
    }
   ],
   "source": [
    "#Ejercicio número 3\n",
    "\n",
    "vel_ast = 20\n",
    "tam_ast = int(input())\n",
    "\n",
    "if tam_ast > 25 and tam_ast < 1000:\n",
    "    if vel_ast >= 20:\n",
    "        print(\"Mira hacia arriba!!, Un asteroide se aproxima, CORRAN!!\")\n",
    "    else:\n",
    "        print(\"Creo que viene un asteroide, pero viene despacio, no hay de que preocuparse\")\n",
    "elif tam_ast < 25:\n",
    "    print(\"Creo que viene un asteroide, pero es pequeño, no hay de que preocuparse\")\n",
    "else:\n",
    "    print(\"YA VALIO!!\")"
   ]
  }
 ],
 "metadata": {
  "interpreter": {
   "hash": "b9042f73efc625a7221879088d5f8b3648a95da0392f04fdb4476149b05e9c7d"
  },
  "kernelspec": {
   "display_name": "Python 3.10.2 64-bit",
   "language": "python",
   "name": "python3"
  },
  "language_info": {
   "codemirror_mode": {
    "name": "ipython",
    "version": 3
   },
   "file_extension": ".py",
   "mimetype": "text/x-python",
   "name": "python",
   "nbconvert_exporter": "python",
   "pygments_lexer": "ipython3",
   "version": "3.10.2"
  },
  "orig_nbformat": 4
 },
 "nbformat": 4,
 "nbformat_minor": 2
}
