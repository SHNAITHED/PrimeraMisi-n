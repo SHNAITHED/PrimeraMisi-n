{
 "cells": [
  {
   "cell_type": "markdown",
   "metadata": {},
   "source": [
    "## Programa para mostrar la fecha"
   ]
  },
  {
   "cell_type": "code",
   "execution_count": 1,
   "metadata": {},
   "outputs": [
    {
     "name": "stdout",
     "output_type": "stream",
     "text": [
      "La fecha de hoy es: 2022-02-09\n"
     ]
    }
   ],
   "source": [
    "from datetime import date\n",
    "\n",
    "fechaActual = date.today()\n",
    "\n",
    "print(\"La fecha de hoy es: \" + str(fechaActual))"
   ]
  },
  {
   "cell_type": "markdown",
   "metadata": {},
   "source": [
    "## Programa convertidor de unidades parsec a años luz"
   ]
  },
  {
   "cell_type": "code",
   "execution_count": 3,
   "metadata": {},
   "outputs": [
    {
     "name": "stdout",
     "output_type": "stream",
     "text": [
      "11 Parsecs equivalen a 35.877159999999996 Años Luz\n"
     ]
    }
   ],
   "source": [
    "parsec = 11\n",
    "añoLuz = 3.26156 * parsec\n",
    "\n",
    "print(str(parsec) + \" Parsecs equivalen a \" + str(añoLuz) + \" Años Luz\")"
   ]
  },
  {
   "cell_type": "code",
   "execution_count": 6,
   "metadata": {},
   "outputs": [
    {
     "name": "stdout",
     "output_type": "stream",
     "text": [
      "introduzca la cantidad de parsecs para realizar la conevrsión\n",
      "7 Parsecs equivalen a 22.83092 Años Luz\n"
     ]
    }
   ],
   "source": [
    "#Programa con entrada dinámica\n",
    "\n",
    "print(\"introduzca la cantidad de parsecs para realizar la conevrsión\")\n",
    "\n",
    "parsec = input()\n",
    "añoLuz = 3.26156 * int(parsec)\n",
    "\n",
    "print(parsec + \" Parsecs equivalen a \" + str(añoLuz) + \" Años Luz\")"
   ]
  }
 ],
 "metadata": {
  "interpreter": {
   "hash": "b9042f73efc625a7221879088d5f8b3648a95da0392f04fdb4476149b05e9c7d"
  },
  "kernelspec": {
   "display_name": "Python 3.10.2 64-bit",
   "language": "python",
   "name": "python3"
  },
  "language_info": {
   "codemirror_mode": {
    "name": "ipython",
    "version": 3
   },
   "file_extension": ".py",
   "mimetype": "text/x-python",
   "name": "python",
   "nbconvert_exporter": "python",
   "pygments_lexer": "ipython3",
   "version": "3.10.2"
  },
  "orig_nbformat": 4
 },
 "nbformat": 4,
 "nbformat_minor": 2
}
